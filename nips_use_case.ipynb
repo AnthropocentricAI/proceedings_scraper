{
 "cells": [
  {
   "cell_type": "code",
   "execution_count": 1,
   "metadata": {},
   "outputs": [],
   "source": [
    "%load_ext autoreload\n",
    "%autoreload 2"
   ]
  },
  {
   "cell_type": "code",
   "execution_count": 2,
   "metadata": {},
   "outputs": [],
   "source": [
    "import scrap"
   ]
  },
  {
   "cell_type": "code",
   "execution_count": 3,
   "metadata": {},
   "outputs": [
    {
     "name": "stdout",
     "output_type": "stream",
     "text": [
      "Pickle found: /Users/kacper/scraper_temp_pdfs/nips/2017/_metadata.pkl\n",
      "Reading pickle\n"
     ]
    }
   ],
   "source": [
    "nips_2017 = scrap.get_nips_proceedings('2017')"
   ]
  },
  {
   "cell_type": "code",
   "execution_count": 4,
   "metadata": {},
   "outputs": [
    {
     "data": {
      "text/plain": [
       "{'source': 'nips',\n",
       " 'volume': '2017',\n",
       " 'info': '',\n",
       " 'pdf_sup_filename': '',\n",
       " 'pdf_sup_url': '',\n",
       " 'title': 'Wider and Deeper, Cheaper and Faster: Tensorized LSTMs for Sequence Learning',\n",
       " 'authors': ['Zhen He',\n",
       "  'Shaobing Gao',\n",
       "  'Liang Xiao',\n",
       "  'Daxue Liu',\n",
       "  'Hangen He',\n",
       "  'David Barber'],\n",
       " 'url': 'https://papers.nips.cc/paper/6606-wider-and-deeper-cheaper-and-faster-tensorized-lstms-for-sequence-learning',\n",
       " 'pdf_url': 'https://papers.nips.cc/paper/6606-wider-and-deeper-cheaper-and-faster-tensorized-lstms-for-sequence-learning.pdf',\n",
       " 'pdf_filename': '6606-wider-and-deeper-cheaper-and-faster-tensorized-lstms-for-sequence-learning.pdf',\n",
       " 'zip_sup_url': 'https://papers.nips.cc/paper/6606-wider-and-deeper-cheaper-and-faster-tensorized-lstms-for-sequence-learning-supplemental.zip',\n",
       " 'zip_sup_filename': '6606-wider-and-deeper-cheaper-and-faster-tensorized-lstms-for-sequence-learning-supplemental.zip'}"
      ]
     },
     "execution_count": 4,
     "metadata": {},
     "output_type": "execute_result"
    }
   ],
   "source": [
    "nips_2017[0]"
   ]
  },
  {
   "cell_type": "code",
   "execution_count": 5,
   "metadata": {},
   "outputs": [
    {
     "name": "stdout",
     "output_type": "stream",
     "text": [
      "Progress: |██████████████████████████████████████████████████| 100.0% Complete\n"
     ]
    }
   ],
   "source": [
    "scrap.download_proceedings(nips_2017)"
   ]
  },
  {
   "cell_type": "code",
   "execution_count": null,
   "metadata": {},
   "outputs": [],
   "source": [
    "nips_2017_text = scrap.read_proceedings(nips_2017)"
   ]
  },
  {
   "cell_type": "code",
   "execution_count": null,
   "metadata": {},
   "outputs": [],
   "source": [
    "nips_2017_text.head()"
   ]
  },
  {
   "cell_type": "markdown",
   "metadata": {},
   "source": [
    "## RegEx example ##"
   ]
  },
  {
   "cell_type": "code",
   "execution_count": null,
   "metadata": {},
   "outputs": [],
   "source": [
    "# Check your regex here: https://pythex.org/\n",
    "regexes = {\n",
    "    'f1': r'F[1 -]*?(measure|score)',\n",
    "    'auc': r'AU(C|ROC|CH)',\n",
    "    'logloss': r'[Ll]og[ -]*?loss',\n",
    "    'acc': r'accuracy',\n",
    "    'imbalance': r'(im|un|not )balance'\n",
    "}"
   ]
  },
  {
   "cell_type": "code",
   "execution_count": null,
   "metadata": {},
   "outputs": [],
   "source": [
    "regexes_counts = scrap.regexes_in_proceedings(regexes, nips_2017_text)\n",
    "regexes_counts.head()"
   ]
  },
  {
   "cell_type": "code",
   "execution_count": null,
   "metadata": {},
   "outputs": [],
   "source": [
    "scrap.regexes_to_matrix(regexes_counts, regexes_in=['f1', 'auc'])"
   ]
  },
  {
   "cell_type": "code",
   "execution_count": null,
   "metadata": {},
   "outputs": [],
   "source": []
  }
 ],
 "metadata": {
  "kernelspec": {
   "display_name": "Python 3",
   "language": "python",
   "name": "python3"
  },
  "language_info": {
   "codemirror_mode": {
    "name": "ipython",
    "version": 3
   },
   "file_extension": ".py",
   "mimetype": "text/x-python",
   "name": "python",
   "nbconvert_exporter": "python",
   "pygments_lexer": "ipython3",
   "version": "3.6.4"
  }
 },
 "nbformat": 4,
 "nbformat_minor": 2
}
